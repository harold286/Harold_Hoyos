{
  "cells": [
    {
      "cell_type": "markdown",
      "metadata": {
        "id": "view-in-github",
        "colab_type": "text"
      },
      "source": [
        "<a href=\"https://colab.research.google.com/github/harold286/Harold_Hoyos/blob/main/EjercicioPandas1.ipynb\" target=\"_parent\"><img src=\"https://colab.research.google.com/assets/colab-badge.svg\" alt=\"Open In Colab\"/></a>"
      ]
    },
    {
      "cell_type": "markdown",
      "id": "6bae65f4",
      "metadata": {
        "id": "6bae65f4"
      },
      "source": [
        "# Taller básico pandas - numpy"
      ]
    },
    {
      "cell_type": "code",
      "execution_count": null,
      "id": "bc1e240c",
      "metadata": {
        "id": "bc1e240c"
      },
      "outputs": [],
      "source": [
        "import pandas as pd"
      ]
    },
    {
      "cell_type": "code",
      "execution_count": null,
      "id": "fe3e3cc4",
      "metadata": {
        "id": "fe3e3cc4"
      },
      "outputs": [],
      "source": [
        "# Crear un dataframe que tenga 3 registros(filas) cada una debe contener el nombre de una cancion, el artista que la canta, y la duracion en segundos\n"
      ]
    },
    {
      "cell_type": "code",
      "source": [
        "import pandas as pd\n",
        "import numpy as np\n",
        "data = {\n",
        "    'Canción': ['Me Prefieres a mi', 'Aventurero', 'Mirame'],\n",
        "    'Artista': ['Arcangel', 'Yeison Jimenez', 'Blessd'],\n",
        "    'Duración (segundos)': [196, 226, 196]\n",
        "}\n",
        "\n",
        "df = pd.DataFrame(data)"
      ],
      "metadata": {
        "id": "GMsCmvPykOCR"
      },
      "id": "GMsCmvPykOCR",
      "execution_count": 2,
      "outputs": []
    },
    {
      "cell_type": "code",
      "execution_count": 3,
      "id": "38d4ed46",
      "metadata": {
        "id": "38d4ed46",
        "colab": {
          "base_uri": "https://localhost:8080/"
        },
        "outputId": "9f413e6b-9ae6-4a22-e4c0-b989f583b5ea"
      },
      "outputs": [
        {
          "output_type": "stream",
          "name": "stdout",
          "text": [
            "Cola del DataFrame:\n",
            "             Canción         Artista  Duración (segundos)\n",
            "0  Me Prefieres a mi        Arcangel                  196\n",
            "1         Aventurero  Yeison Jimenez                  226\n",
            "2             Mirame          Blessd                  196 \n",
            "\n"
          ]
        }
      ],
      "source": [
        "# Imprimir la cola del dataframe\n",
        "\n",
        "print(\"Cola del DataFrame:\")\n",
        "print(df.tail(), \"\\n\")"
      ]
    },
    {
      "cell_type": "code",
      "execution_count": 4,
      "id": "79ccb7d9",
      "metadata": {
        "id": "79ccb7d9",
        "colab": {
          "base_uri": "https://localhost:8080/"
        },
        "outputId": "a1799b47-0f25-49dd-c8f8-2d19337495e8"
      },
      "outputs": [
        {
          "output_type": "stream",
          "name": "stdout",
          "text": [
            "Columna de duración:\n",
            "0    196\n",
            "1    226\n",
            "2    196\n",
            "Name: Duración (segundos), dtype: int64 \n",
            "\n"
          ]
        }
      ],
      "source": [
        "# Acceder a la columna duracion\n",
        "duracion = df['Duración (segundos)']\n",
        "print(\"Columna de duración:\")\n",
        "print(duracion, \"\\n\")\n"
      ]
    },
    {
      "cell_type": "code",
      "execution_count": 5,
      "id": "0a3732eb",
      "metadata": {
        "id": "0a3732eb",
        "colab": {
          "base_uri": "https://localhost:8080/"
        },
        "outputId": "e7170344-7fb6-4eb6-bb1f-4ef41a5c3e04"
      },
      "outputs": [
        {
          "output_type": "stream",
          "name": "stdout",
          "text": [
            "Promedio de duración en segundos:\n",
            "206.0 \n",
            "\n"
          ]
        }
      ],
      "source": [
        "# Calcular el promedio de las duraciones\n",
        "promedio_duracion = duracion.mean()\n",
        "print(\"Promedio de duración en segundos:\")\n",
        "print(promedio_duracion, \"\\n\")\n"
      ]
    },
    {
      "cell_type": "code",
      "execution_count": 8,
      "id": "bf77fe95",
      "metadata": {
        "id": "bf77fe95",
        "colab": {
          "base_uri": "https://localhost:8080/"
        },
        "outputId": "d5a7396d-4bc9-4c1c-c5a8-9eebcb533a66"
      },
      "outputs": [
        {
          "output_type": "stream",
          "name": "stdout",
          "text": [
            "Canciones con duración mayor que el promedio:\n",
            "['Aventurero'] \n",
            "\n"
          ]
        }
      ],
      "source": [
        "# Obtener los nombres de las canciones que tengan duracion mayor que el promedio\n",
        "cancion_mayor_promedio = df[df['Duración (segundos)'] > promedio_duracion]['Canción']\n",
        "print(\"Canciones con duración mayor que el promedio:\")\n",
        "print(cancion_mayor_promedio.tolist(), \"\\n\")"
      ]
    },
    {
      "cell_type": "code",
      "execution_count": 9,
      "id": "c4998539",
      "metadata": {
        "id": "c4998539",
        "colab": {
          "base_uri": "https://localhost:8080/"
        },
        "outputId": "fa78856d-2f0c-4e45-9209-f2cbe315413e"
      },
      "outputs": [
        {
          "output_type": "stream",
          "name": "stdout",
          "text": [
            "DataFrame con la nueva columna:\n",
            "             Canción         Artista  Duración (segundos)  Mayor que 3 minutos\n",
            "0  Me Prefieres a mi        Arcangel                  196                 True\n",
            "1         Aventurero  Yeison Jimenez                  226                 True\n",
            "2             Mirame          Blessd                  196                 True \n",
            "\n"
          ]
        }
      ],
      "source": [
        "# Agregar una columna al dataframe que contenga True si la duracion es mayor que 3 minutos\n",
        "# y false si es menor\n",
        "\n",
        "df['Mayor que 3 minutos'] = df['Duración (segundos)'] > 180\n",
        "print(\"DataFrame con la nueva columna:\")\n",
        "print(df, \"\\n\")\n",
        "\n"
      ]
    },
    {
      "cell_type": "code",
      "execution_count": 10,
      "id": "baa74c25",
      "metadata": {
        "id": "baa74c25",
        "colab": {
          "base_uri": "https://localhost:8080/"
        },
        "outputId": "5acdd25a-c390-456f-f7d2-6186725bfccd"
      },
      "outputs": [
        {
          "output_type": "stream",
          "name": "stdout",
          "text": [
            "Array de numpy:\n",
            "[['Me Prefieres a mi' 'Arcangel' 196 True]\n",
            " ['Aventurero' 'Yeison Jimenez' 226 True]\n",
            " ['Mirame' 'Blessd' 196 True]] \n",
            "\n"
          ]
        }
      ],
      "source": [
        "# Convertir el dataframe a numpy array\n",
        "\n",
        "array_np = df.to_numpy()\n",
        "print(\"Array de numpy:\")\n",
        "print(array_np, \"\\n\")"
      ]
    },
    {
      "cell_type": "code",
      "execution_count": 11,
      "id": "77697675",
      "metadata": {
        "id": "77697675",
        "colab": {
          "base_uri": "https://localhost:8080/"
        },
        "outputId": "6e3f1cb4-8580-4c61-a330-cf87c6267ede"
      },
      "outputs": [
        {
          "output_type": "stream",
          "name": "stdout",
          "text": [
            "Shape del array:\n",
            "(3, 4) \n",
            "\n"
          ]
        }
      ],
      "source": [
        "# Imprimir el shape del array\n",
        "\n",
        "print(\"Shape del array:\")\n",
        "print(array_np.shape, \"\\n\")\n"
      ]
    },
    {
      "cell_type": "code",
      "execution_count": 12,
      "id": "3caa5fa1",
      "metadata": {
        "id": "3caa5fa1",
        "colab": {
          "base_uri": "https://localhost:8080/"
        },
        "outputId": "48991358-7b20-4c99-fa09-eac15e30ab70"
      },
      "outputs": [
        {
          "output_type": "stream",
          "name": "stdout",
          "text": [
            "Array después del reshape:\n",
            "['Me Prefieres a mi' 'Arcangel' 196 True 'Aventurero' 'Yeison Jimenez' 226\n",
            " True 'Mirame' 'Blessd' 196 True]\n"
          ]
        }
      ],
      "source": [
        "# Hacer un reshape para convertir el arreglo de 3x4 a un arreglo de 12 elementos\n",
        "\n",
        "array_reshape = array_np.reshape(-1)\n",
        "print(\"Array después del reshape:\")\n",
        "print(array_reshape)\n"
      ]
    }
  ],
  "metadata": {
    "kernelspec": {
      "display_name": "entornomp",
      "language": "python",
      "name": "entornomp"
    },
    "language_info": {
      "codemirror_mode": {
        "name": "ipython",
        "version": 3
      },
      "file_extension": ".py",
      "mimetype": "text/x-python",
      "name": "python",
      "nbconvert_exporter": "python",
      "pygments_lexer": "ipython3",
      "version": "3.7.10"
    },
    "colab": {
      "provenance": [],
      "include_colab_link": true
    }
  },
  "nbformat": 4,
  "nbformat_minor": 5
}