{
  "cells": [
    {
      "cell_type": "markdown",
      "metadata": {
        "id": "view-in-github",
        "colab_type": "text"
      },
      "source": [
        "<a href=\"https://colab.research.google.com/github/harold286/Harold_Hoyos/blob/main/ejer_Diccionarios_y_Conjuntos.ipynb\" target=\"_parent\"><img src=\"https://colab.research.google.com/assets/colab-badge.svg\" alt=\"Open In Colab\"/></a>"
      ]
    },
    {
      "cell_type": "markdown",
      "metadata": {
        "id": "7tyNHF5mLsgt"
      },
      "source": [
        "# Diccionarios\n",
        "\n",
        "Así como en una lista los valores están indexados por su posición, en un diccionario los valores van a estar indexados por sus llaves. La sintaxis de un diccionario es:\n",
        "\n",
        "```nombre_dict = { key1: value1, key2: value2}```:"
      ]
    },
    {
      "cell_type": "code",
      "execution_count": null,
      "metadata": {
        "colab": {
          "base_uri": "https://localhost:8080/"
        },
        "id": "cIR1xjV4Lsgy",
        "outputId": "bd64a762-f6b7-4387-a74d-9c1d53ea450f"
      },
      "outputs": [
        {
          "output_type": "stream",
          "name": "stdout",
          "text": [
            "{'edad': 40, 'genero': 'Masculino', 'nombre': 'JuanSalvador', 'apellido': 'Gaviota'}\n"
          ]
        }
      ],
      "source": [
        "datos = {\"edad\": 40, \"genero\": 'Masculino', \"nombre\": 'JuanSalvador', \"apellido\": 'Gaviota'}\n",
        "print(datos)"
      ]
    },
    {
      "cell_type": "code",
      "source": [
        "dicc = dict()\n",
        "dicc"
      ],
      "metadata": {
        "colab": {
          "base_uri": "https://localhost:8080/"
        },
        "id": "hicL2N2N1ATI",
        "outputId": "dd68a2d7-a253-4f8b-8f5d-70df4b0d8419"
      },
      "execution_count": null,
      "outputs": [
        {
          "output_type": "execute_result",
          "data": {
            "text/plain": [
              "{}"
            ]
          },
          "metadata": {},
          "execution_count": 2
        }
      ]
    },
    {
      "cell_type": "code",
      "execution_count": null,
      "metadata": {
        "colab": {
          "base_uri": "https://localhost:8080/"
        },
        "id": "hz_5dCq9Lsg1",
        "outputId": "375dd973-6fa9-4089-d946-fe5a35ea36ef"
      },
      "outputs": [
        {
          "output_type": "stream",
          "name": "stdout",
          "text": [
            "{22: 'SSH', 23: 'Telnet', 80: 'HTTP', 3306: 'MySQL'}\n"
          ]
        }
      ],
      "source": [
        "puertos = { 22: 'SSH', 23: 'Telnet', 80: 'HTTP', 3306: 'MySQL'}\n",
        "print(puertos)"
      ]
    },
    {
      "cell_type": "markdown",
      "metadata": {
        "id": "2bJNCAYULsg2"
      },
      "source": [
        "Cada pareja llave valor es considerada un ítem. La llave y el valor están separados por ```:```, cada ítem está separado por comas ```,``` y los items están rodeados por llaves ```{``` ```}```. Un diccionario vacío puede crearse así: ```{}```. Las características clave de un diccionario son:\n",
        "\n",
        "- La llave de un ítem no puede ser cambiada\n",
        "- Un string, int, o float puede ser usado como llave.\n",
        "- Una tupla que no contenga listas puede ser usada como llave.\n",
        "- Las llaves son únicas.\n",
        "- Los valores pueden ser cualquier tipo de dato.\n",
        "- Los valores pueden estar repetidos.\n",
        "- Los valores pueden ser cambiados.\n",
        "- Un diccionario es una colección desordenada (el orden en el que se ingresen los datos es independiente de la forma en la que se almacenan en la estructura de datos).\n"
      ]
    },
    {
      "cell_type": "markdown",
      "metadata": {
        "id": "reXmlvTiLsg3"
      },
      "source": [
        "## Unir diccionarios\n",
        "\n",
        "Es posible añadir las llaves de un diccionario en otro diccionario con ```update```:\n",
        "\n"
      ]
    },
    {
      "cell_type": "code",
      "execution_count": null,
      "metadata": {
        "colab": {
          "base_uri": "https://localhost:8080/"
        },
        "id": "Q2v8voRTLsg3",
        "outputId": "4da981fd-9473-4371-91df-d39fec7dc5e9"
      },
      "outputs": [
        {
          "output_type": "stream",
          "name": "stdout",
          "text": [
            "{22: 'SSH', 23: 'telnet', 80: 'Http', 53: 'DNS', 443: 'https'}\n"
          ]
        }
      ],
      "source": [
        "dict_ports1 = {22: \"SSH\", 23: \"telnet\", 80: \"Http\"}\n",
        "dict_ports2 = {53 :\"DNS\", 443 : \"https\"}\n",
        "dict_ports1.update(dict_ports2)\n",
        "print(dict_ports1)"
      ]
    },
    {
      "cell_type": "markdown",
      "metadata": {
        "id": "Ha-3keOaLsg4"
      },
      "source": [
        "## Comparar\n",
        "\n",
        "Se usa los operadores convencionales `==`y `!=` para comparar diccionarios. Se mira si los diccionarios tienen los mismos ítems. Para el programa"
      ]
    },
    {
      "cell_type": "code",
      "execution_count": null,
      "metadata": {
        "colab": {
          "base_uri": "https://localhost:8080/"
        },
        "id": "lTvABAu_Lsg4",
        "outputId": "f667ad4a-f59f-4c1e-da9c-41b96f52bb1e"
      },
      "outputs": [
        {
          "output_type": "stream",
          "name": "stdout",
          "text": [
            "True\n",
            "True\n",
            "False\n"
          ]
        }
      ],
      "source": [
        "a = {123:'Rojas', 87:'Rosas'} == {87:'Rosas', 123:\"Rojas\"}\n",
        "print(a)\n",
        "print({'Rosas':123} != {'rosas':123} )\n",
        "b =  {123:'Rosas', 87:'rojas'} == {'Rosas':123, 87:'rojas'}\n",
        "print(b)"
      ]
    },
    {
      "cell_type": "markdown",
      "metadata": {
        "id": "oQKYdeDULsg5"
      },
      "source": [
        "## Comparar (is)\n",
        "\n",
        "Se puede usar el operador `is` para determinar si dos diccionarios son elmismo (referencian al mismo objeto)."
      ]
    },
    {
      "cell_type": "code",
      "execution_count": null,
      "metadata": {
        "colab": {
          "base_uri": "https://localhost:8080/"
        },
        "id": "jnYBe1SbLsg6",
        "outputId": "6bc626b1-254a-44ad-c8f0-1ad885f0b3f7"
      },
      "outputs": [
        {
          "output_type": "stream",
          "name": "stdout",
          "text": [
            "True\n",
            "False\n",
            "True\n",
            "True\n"
          ]
        }
      ],
      "source": [
        "a = {123:'Rojas', 87:'rosas'}\n",
        "b = {87:'rosas', 123:'Rojas'}\n",
        "c = a\n",
        "print( a == b )\n",
        "print( a is b )\n",
        "print( a == c )\n",
        "print( a is c )"
      ]
    },
    {
      "cell_type": "markdown",
      "metadata": {
        "id": "rRxqYAwuLsg6"
      },
      "source": [
        "## Accediendo a un valor\n",
        "\n",
        "Para acceder a un valor en un diccionario es necesario tener la llave."
      ]
    },
    {
      "cell_type": "code",
      "execution_count": null,
      "metadata": {
        "id": "qmX2TPrsLsg7"
      },
      "outputs": [],
      "source": [
        "puertos = { 22: 'SSH', 23: 'Telnet', 80: 'HTTP', 3306: 'MySQL'}"
      ]
    },
    {
      "cell_type": "markdown",
      "metadata": {
        "id": "9gjogHcPLsg7"
      },
      "source": [
        "Para obtener el nombre del protocolo correspondiente al puerto 22 se puede hacer lo siguiente:"
      ]
    },
    {
      "cell_type": "code",
      "execution_count": null,
      "metadata": {
        "colab": {
          "base_uri": "https://localhost:8080/"
        },
        "id": "MVGhFI3-Lsg7",
        "outputId": "c81ea9b6-9c05-4634-dcf2-dd5284b955e1"
      },
      "outputs": [
        {
          "output_type": "stream",
          "name": "stdout",
          "text": [
            "SSH\n"
          ]
        }
      ],
      "source": [
        "protocol = puertos[22]\n",
        "print(protocol)"
      ]
    },
    {
      "cell_type": "code",
      "execution_count": null,
      "metadata": {
        "colab": {
          "base_uri": "https://localhost:8080/",
          "height": 35
        },
        "id": "ciGrAsvoLsg8",
        "outputId": "6dd80c56-17dd-47c5-b58c-95c3595cb5d3"
      },
      "outputs": [
        {
          "output_type": "execute_result",
          "data": {
            "text/plain": [
              "'MySQL'"
            ],
            "application/vnd.google.colaboratory.intrinsic+json": {
              "type": "string"
            }
          },
          "metadata": {},
          "execution_count": 8
        }
      ],
      "source": [
        "puertos[3306]"
      ]
    },
    {
      "cell_type": "markdown",
      "metadata": {
        "id": "dAHyuHpTLsg8"
      },
      "source": [
        "Si la llave no está se produce un ```KeyError```:"
      ]
    },
    {
      "cell_type": "code",
      "execution_count": null,
      "metadata": {
        "colab": {
          "base_uri": "https://localhost:8080/",
          "height": 166
        },
        "id": "F_x27UlaLsg8",
        "outputId": "5f5a504d-d2e9-4f3e-ce6f-7b6aae82c9a6"
      },
      "outputs": [
        {
          "output_type": "error",
          "ename": "KeyError",
          "evalue": "ignored",
          "traceback": [
            "\u001b[0;31m---------------------------------------------------------------------------\u001b[0m",
            "\u001b[0;31mKeyError\u001b[0m                                  Traceback (most recent call last)",
            "\u001b[0;32m<ipython-input-8-b7ffcde03a52>\u001b[0m in \u001b[0;36m<module>\u001b[0;34m\u001b[0m\n\u001b[0;32m----> 1\u001b[0;31m \u001b[0mpuertos\u001b[0m\u001b[0;34m[\u001b[0m\u001b[0;36m443\u001b[0m\u001b[0;34m]\u001b[0m\u001b[0;34m\u001b[0m\u001b[0;34m\u001b[0m\u001b[0m\n\u001b[0m",
            "\u001b[0;31mKeyError\u001b[0m: 443"
          ]
        }
      ],
      "source": [
        "puertos[443]"
      ]
    },
    {
      "cell_type": "markdown",
      "metadata": {
        "id": "YNStjaegLsg9"
      },
      "source": [
        "## Actualización de valores en un diccionario\n",
        "\n",
        "Para actualizar valores en un diccionario basta con realizar la siguiente asignación:\n",
        "\n",
        "```dict[key] = new_val```\n"
      ]
    },
    {
      "cell_type": "code",
      "execution_count": null,
      "metadata": {
        "id": "gMw1pCOvLsg9",
        "colab": {
          "base_uri": "https://localhost:8080/"
        },
        "outputId": "993aba8a-6bd4-4e84-a547-2e0a3a24e033"
      },
      "outputs": [
        {
          "output_type": "stream",
          "name": "stdout",
          "text": [
            "{80: 'HTTP', 23: 'SMTP', 443: 'HTTPS'}\n",
            "{80: 'HTTP', 23: 'Telnet', 443: 'HTTPS'}\n"
          ]
        }
      ],
      "source": [
        "puertos = {80: \"HTTP\", 23 : \"SMTP\", 443 : \"HTTPS\"}\n",
        "print(puertos)\n",
        "puertos[23] = 'Telnet'\n",
        "print(puertos)"
      ]
    },
    {
      "cell_type": "markdown",
      "metadata": {
        "id": "o5MvbIMULsg9"
      },
      "source": [
        "Para añadir un valor se realiza la asignación:\n",
        "\n",
        "```dict[new_key] = new_val```"
      ]
    },
    {
      "cell_type": "code",
      "execution_count": null,
      "metadata": {
        "id": "gYgANC8ILsg-",
        "colab": {
          "base_uri": "https://localhost:8080/"
        },
        "outputId": "d2f0746b-1ad4-4527-8a91-e23fbf2f3049"
      },
      "outputs": [
        {
          "output_type": "stream",
          "name": "stdout",
          "text": [
            "{80: 'HTTP', 23: 'SMTP', 443: 'HTTPS'}\n",
            "{80: 'HTTP', 23: 'SMTP', 443: 'HTTPS', 110: 'POP'}\n"
          ]
        }
      ],
      "source": [
        "puertos = {80: \"HTTP\", 23 : \"SMTP\", 443 : \"HTTPS\"}\n",
        "print(puertos)\n",
        "puertos[110] = 'POP'\n",
        "print(puertos)"
      ]
    },
    {
      "cell_type": "markdown",
      "metadata": {
        "id": "G_4fE7KiLsg-"
      },
      "source": [
        "## Eliminación de ítems"
      ]
    },
    {
      "cell_type": "markdown",
      "metadata": {
        "id": "-6ZSrnAVLsg-"
      },
      "source": [
        "Con ```del``` es posible eliminar el diccionario entero o los ítems de un diccionario. Si se desea eliminar un ítem se puede utilizar la siguiente sintaxis:\n",
        "\n",
        "```del dict[key]```"
      ]
    },
    {
      "cell_type": "code",
      "execution_count": null,
      "metadata": {
        "id": "TpWdRAIzLsg-",
        "colab": {
          "base_uri": "https://localhost:8080/"
        },
        "outputId": "a51b0e5e-ca4e-4d5d-c8bf-dcb097ba2ddd"
      },
      "outputs": [
        {
          "output_type": "stream",
          "name": "stdout",
          "text": [
            "{22: 'SSH', 23: 'Telnet', 80: 'HTTP', 3306: 'MySQL'}\n",
            "{22: 'SSH', 80: 'HTTP', 3306: 'MySQL'}\n"
          ]
        }
      ],
      "source": [
        "puertos = { 22: 'SSH', 23: 'Telnet', 80: 'HTTP', 3306: 'MySQL'}\n",
        "print(puertos)\n",
        "del puertos[23]\n",
        "print(puertos)"
      ]
    },
    {
      "cell_type": "markdown",
      "metadata": {
        "id": "4pAI-1nnLsg_"
      },
      "source": [
        "## Consultando un diccionario\n",
        "\n",
        "Para validar la existencia de la llave en un diccionario se puede utilizar el operador ```in```"
      ]
    },
    {
      "cell_type": "code",
      "execution_count": null,
      "metadata": {
        "id": "fWvkWKv6Lsg_",
        "colab": {
          "base_uri": "https://localhost:8080/"
        },
        "outputId": "30c9cb4a-77c3-40cf-d289-dc0b45756bbf"
      },
      "outputs": [
        {
          "output_type": "stream",
          "name": "stdout",
          "text": [
            "True\n",
            "False\n"
          ]
        }
      ],
      "source": [
        "print(80 in puertos)\n",
        "print(222 in puertos)"
      ]
    },
    {
      "cell_type": "markdown",
      "metadata": {
        "id": "duOa12ubLsg_"
      },
      "source": [
        "## Iterando un diccionario\n",
        "\n",
        "Es posible usae el ciclo for y el método items() para obtener los items deun diccionario."
      ]
    },
    {
      "cell_type": "code",
      "execution_count": null,
      "metadata": {
        "id": "FAFmlsiDLsg_",
        "colab": {
          "base_uri": "https://localhost:8080/"
        },
        "outputId": "084e27e1-854f-4c5b-9e4e-78040203144f"
      },
      "outputs": [
        {
          "output_type": "stream",
          "name": "stdout",
          "text": [
            "22 SSH\n",
            "23 telnet\n",
            "80 Http\n"
          ]
        }
      ],
      "source": [
        "dict_ports = {22: \"SSH\", 23: \"telnet\", 80: \"Http\"}\n",
        "for a,b in dict_ports.items():\n",
        "    print(a,b)"
      ]
    },
    {
      "cell_type": "code",
      "source": [],
      "metadata": {
        "id": "O0mYBfJa3Ik5"
      },
      "execution_count": null,
      "outputs": []
    },
    {
      "cell_type": "markdown",
      "metadata": {
        "id": "45X-eTF1Lsg_"
      },
      "source": [
        "Es posible iterar un diccionario usando el ciclo for para obtener las claves."
      ]
    },
    {
      "cell_type": "code",
      "execution_count": null,
      "metadata": {
        "id": "gHa0YywDLshA",
        "colab": {
          "base_uri": "https://localhost:8080/"
        },
        "outputId": "3f6a1b98-9bfc-49e8-e410-95ff8c64f323"
      },
      "outputs": [
        {
          "output_type": "stream",
          "name": "stdout",
          "text": [
            "22\n",
            "23\n",
            "80\n"
          ]
        }
      ],
      "source": [
        "dict_ports = {22: \"SSH\", 23: \"telnet\", 80: \"Http\"}\n",
        "for key in dict_ports:\n",
        "    print(key)"
      ]
    },
    {
      "cell_type": "markdown",
      "metadata": {
        "id": "3SHC6SHbLshA"
      },
      "source": [
        "## Longitud (len)\n",
        "\n",
        "Determina el número de ítems en un diccionario."
      ]
    },
    {
      "cell_type": "markdown",
      "metadata": {
        "id": "Zw3JyX-jLshA"
      },
      "source": [
        "Obtener la cantidad de ítems:"
      ]
    },
    {
      "cell_type": "code",
      "execution_count": null,
      "metadata": {
        "colab": {
          "base_uri": "https://localhost:8080/"
        },
        "id": "kMBsy8K9LshA",
        "outputId": "bfb12716-5da1-4d0d-d662-49346c8c15b9"
      },
      "outputs": [
        {
          "output_type": "execute_result",
          "data": {
            "text/plain": [
              "3"
            ]
          },
          "metadata": {},
          "execution_count": 15
        }
      ],
      "source": [
        "puertos = {80: \"HTTP\", 23 : \"SMTP\", 443 : \"HTTPS\"}\n",
        "len(puertos)"
      ]
    },
    {
      "cell_type": "markdown",
      "metadata": {
        "id": "w_lu6jrbLshB"
      },
      "source": [
        "## Obteniendo valores\n",
        "\n",
        "Para obtener el valor correspondiente a una llave también se puede utilizar ```get```.\n",
        "\n",
        "```dict.get(key, default=None)```"
      ]
    },
    {
      "cell_type": "code",
      "execution_count": null,
      "metadata": {
        "colab": {
          "base_uri": "https://localhost:8080/"
        },
        "id": "HSAvlsEFLshB",
        "outputId": "61469065-bf54-440b-b4d1-4f9ba6569460"
      },
      "outputs": [
        {
          "output_type": "execute_result",
          "data": {
            "text/plain": [
              "1"
            ]
          },
          "metadata": {},
          "execution_count": 16
        }
      ],
      "source": [
        "dict1 = {'a':1, 'b':2, 'c':3}\n",
        "dict1.get('a')"
      ]
    },
    {
      "cell_type": "code",
      "execution_count": null,
      "metadata": {
        "colab": {
          "base_uri": "https://localhost:8080/",
          "height": 35
        },
        "id": "muvWdJMBLshB",
        "outputId": "24d55f5d-9921-40b5-8bc5-2e64f9cb1883"
      },
      "outputs": [
        {
          "output_type": "execute_result",
          "data": {
            "text/plain": [
              "'llave no encontrada.'"
            ],
            "application/vnd.google.colaboratory.intrinsic+json": {
              "type": "string"
            }
          },
          "metadata": {},
          "execution_count": 17
        }
      ],
      "source": [
        "dict1.get('d', 'llave no encontrada.')"
      ]
    },
    {
      "cell_type": "markdown",
      "metadata": {
        "id": "61VTvtMtLshB"
      },
      "source": [
        "Transformar diccionario en string:"
      ]
    },
    {
      "cell_type": "code",
      "execution_count": null,
      "metadata": {
        "colab": {
          "base_uri": "https://localhost:8080/",
          "height": 35
        },
        "id": "cuLeJeaKLshB",
        "outputId": "9e83ab90-cb55-41f6-e012-5162c7f35330"
      },
      "outputs": [
        {
          "output_type": "execute_result",
          "data": {
            "text/plain": [
              "\"{80: 'HTTP', 23: 'SMTP', 443: 'HTTPS'}\""
            ],
            "application/vnd.google.colaboratory.intrinsic+json": {
              "type": "string"
            }
          },
          "metadata": {},
          "execution_count": 18
        }
      ],
      "source": [
        "str(puertos)"
      ]
    },
    {
      "cell_type": "markdown",
      "metadata": {
        "id": "nTLQCb4oLshC"
      },
      "source": [
        "## Máximo y mínimo\n",
        "\n",
        "Obtener la llave con el valor máximo ó mínimo:\n"
      ]
    },
    {
      "cell_type": "code",
      "execution_count": null,
      "metadata": {
        "colab": {
          "base_uri": "https://localhost:8080/"
        },
        "id": "qy2jyumPLshC",
        "outputId": "9a4cb315-97a0-4f09-e4e2-68dffb65fa07"
      },
      "outputs": [
        {
          "output_type": "execute_result",
          "data": {
            "text/plain": [
              "443"
            ]
          },
          "metadata": {},
          "execution_count": 19
        }
      ],
      "source": [
        "puertos = {80: \"HTTP\", 23 : \"SMTP\", 443 : \"HTTPS\"}\n",
        "max(puertos)"
      ]
    },
    {
      "cell_type": "code",
      "execution_count": null,
      "metadata": {
        "colab": {
          "base_uri": "https://localhost:8080/"
        },
        "id": "QTduvyfSLshC",
        "outputId": "9016dad1-f17f-4668-eb57-d0f8e1c28a68"
      },
      "outputs": [
        {
          "output_type": "execute_result",
          "data": {
            "text/plain": [
              "23"
            ]
          },
          "metadata": {},
          "execution_count": 20
        }
      ],
      "source": [
        "min(puertos)"
      ]
    },
    {
      "cell_type": "markdown",
      "metadata": {
        "id": "knxWrGPwLshC"
      },
      "source": [
        "## Obtener una lista de llaves\n",
        "\n",
        "Para obtener una lista de las llaves se puede hacer lo siguiente:"
      ]
    },
    {
      "cell_type": "code",
      "execution_count": null,
      "metadata": {
        "colab": {
          "base_uri": "https://localhost:8080/"
        },
        "id": "GXb1cwTDLshC",
        "outputId": "9e02e01c-491a-4c15-de8d-776cfbffb708"
      },
      "outputs": [
        {
          "output_type": "stream",
          "name": "stdout",
          "text": [
            "['a', 'b', 'c']\n"
          ]
        }
      ],
      "source": [
        "dict1 = {'a':1, 'b':2, 'c':3}\n",
        "print(list(dict1.keys()))"
      ]
    },
    {
      "cell_type": "markdown",
      "metadata": {
        "id": "ZKu2iV26LshD"
      },
      "source": [
        "## Obtener una lista de valores\n",
        "\n",
        "Para obtener una lista de los valores:"
      ]
    },
    {
      "cell_type": "code",
      "execution_count": null,
      "metadata": {
        "colab": {
          "base_uri": "https://localhost:8080/"
        },
        "id": "dawOUvw0LshD",
        "outputId": "8d0d350c-031c-47d6-bf88-048089351015"
      },
      "outputs": [
        {
          "output_type": "stream",
          "name": "stdout",
          "text": [
            "[1, 2, 3]\n"
          ]
        }
      ],
      "source": [
        "dict1 = {'a':1, 'b':2, 'c':3}\n",
        "print(list(dict1.values()))"
      ]
    },
    {
      "cell_type": "markdown",
      "metadata": {
        "id": "76dQk1PSLshE"
      },
      "source": [
        "## Conversion de listas de listas y listas de tuplas a diccionario\n",
        "\n",
        "Es posible convertir una lista de listas o una lista de tuplas en un diccionario usando ```dict```."
      ]
    },
    {
      "cell_type": "code",
      "execution_count": null,
      "metadata": {
        "colab": {
          "base_uri": "https://localhost:8080/"
        },
        "id": "nGq3OyqHLshE",
        "outputId": "1b7f7857-9e30-4418-c0e1-5490b64317a6"
      },
      "outputs": [
        {
          "output_type": "stream",
          "name": "stdout",
          "text": [
            "{80: 'http', 20: 'ftp', 23: 'telnet', 443: 'https', 53: 'DNS'}\n"
          ]
        }
      ],
      "source": [
        "puertos = [[80,\"http\"],[20,\"ftp\"],[23,\"telnet\"],[443,\"https\"],[53,\"DNS\"]]\n",
        "d_port = dict(puertos)\n",
        "print(d_port)"
      ]
    },
    {
      "cell_type": "code",
      "execution_count": null,
      "metadata": {
        "colab": {
          "base_uri": "https://localhost:8080/"
        },
        "id": "8TRnqvADLshE",
        "outputId": "82873ed0-99bd-476d-e819-b7bf60cf911d"
      },
      "outputs": [
        {
          "output_type": "stream",
          "name": "stdout",
          "text": [
            "{80: 'http', 20: 'ftp', 23: 'telnet', 443: 'https', 53: 'DNS'}\n"
          ]
        }
      ],
      "source": [
        "puertos = [(80,\"http\"),(20,\"ftp\"),(23,\"telnet\"),(443,\"https\"),(53,\"DNS\")]\n",
        "d_port = dict(puertos)\n",
        "print(d_port)"
      ]
    },
    {
      "cell_type": "markdown",
      "metadata": {
        "id": "qvq9CeleLshE"
      },
      "source": [
        "## Eliminar entradas de un diccionario\n",
        "\n",
        "Para eliminar todas las entradas de un diccionario se utiliza ```clear()```:"
      ]
    },
    {
      "cell_type": "code",
      "execution_count": null,
      "metadata": {
        "colab": {
          "base_uri": "https://localhost:8080/"
        },
        "id": "mMspKrRwLshF",
        "outputId": "06dc9cc0-4a0d-46f4-86df-bc9415a8cb49"
      },
      "outputs": [
        {
          "output_type": "stream",
          "name": "stdout",
          "text": [
            "{22: 'SSH', 23: 'telnet', 80: 'Http'}\n",
            "{}\n"
          ]
        }
      ],
      "source": [
        "dict_ports = {22: \"SSH\", 23: \"telnet\", 80: \"Http\"}\n",
        "print(dict_ports)\n",
        "dict_ports.clear()\n",
        "print(dict_ports)"
      ]
    },
    {
      "cell_type": "markdown",
      "metadata": {
        "id": "YMrTzmALLshF"
      },
      "source": [
        "## Copiando un diccionario\n",
        "\n",
        "Para obtener la copia de un diccionario se puede utilzar ```dict.copy()```"
      ]
    },
    {
      "cell_type": "code",
      "execution_count": null,
      "metadata": {
        "id": "0xGwqQKPLshF"
      },
      "outputs": [],
      "source": [
        "port = {80: \"HTTP\", 23 : \"SMTP\", 443 : \"HTTPS\"}\n",
        "copy_port = port.copy()\n",
        "false_copy = port"
      ]
    },
    {
      "cell_type": "code",
      "execution_count": null,
      "metadata": {
        "colab": {
          "base_uri": "https://localhost:8080/"
        },
        "id": "RUNQJZ7TLshF",
        "outputId": "173e701c-c982-45ef-f417-38736d7e8475"
      },
      "outputs": [
        {
          "output_type": "execute_result",
          "data": {
            "text/plain": [
              "True"
            ]
          },
          "metadata": {},
          "execution_count": 27
        }
      ],
      "source": [
        "false_copy is port"
      ]
    },
    {
      "cell_type": "code",
      "execution_count": null,
      "metadata": {
        "colab": {
          "base_uri": "https://localhost:8080/"
        },
        "id": "3o2wNqsDLshG",
        "outputId": "cd620ea4-de82-4934-fe79-97eb263af294"
      },
      "outputs": [
        {
          "output_type": "execute_result",
          "data": {
            "text/plain": [
              "False"
            ]
          },
          "metadata": {},
          "execution_count": 28
        }
      ],
      "source": [
        "copy_port is port"
      ]
    },
    {
      "cell_type": "code",
      "execution_count": null,
      "metadata": {
        "colab": {
          "base_uri": "https://localhost:8080/"
        },
        "id": "3KxLY23ILshG",
        "outputId": "d7b65964-a8e1-4e73-fcc4-d4fab75c2c9e"
      },
      "outputs": [
        {
          "output_type": "stream",
          "name": "stdout",
          "text": [
            "{80: 'HTTP', 23: 'SMTP', 443: 'HTTPS'}\n"
          ]
        }
      ],
      "source": [
        "print(copy_port)"
      ]
    },
    {
      "cell_type": "markdown",
      "metadata": {
        "id": "tcSuFevjLshG"
      },
      "source": [
        "## Obtener una lista de tuplas de un diccionario\n",
        "\n",
        "Para obtener una lista de tuplas correspondiente al diccionario se utiliza ```items```:"
      ]
    },
    {
      "cell_type": "code",
      "execution_count": null,
      "metadata": {
        "colab": {
          "base_uri": "https://localhost:8080/"
        },
        "id": "4iKDimsPLshH",
        "outputId": "3b3ecb2f-7fb4-4d33-f38f-f94eb16c501e"
      },
      "outputs": [
        {
          "output_type": "stream",
          "name": "stdout",
          "text": [
            "[(22, 'SSH'), (23, 'telnet'), (80, 'Http')]\n"
          ]
        }
      ],
      "source": [
        "dict_ports1 = {22: \"SSH\", 23: \"telnet\", 80: \"Http\"}\n",
        "print(list(dict_ports1.items()))"
      ]
    },
    {
      "cell_type": "markdown",
      "metadata": {
        "id": "qrfsmXf2LshI"
      },
      "source": [
        "### Ejercicio 1\n",
        "\n",
        "Utilizando el diccionario de puertos ```port1 = {21: \"FTP\", 22:\"SSH\", 23: \"telnet\", 80:\n",
        "\"http\"}``` cree un nuevo diccionario donde las llaves se vuelvan valores y los valores llaves: así: ```port2 = {\"FTP\":21, \"SSH\":22, \"telnet\":23, \"http\": 80}```\n",
        "\n"
      ]
    },
    {
      "cell_type": "code",
      "source": [
        "port1 = {21: \"FTP\", 22:\"SSH\", 23: \"telnet\", 80: \"http\"}\n",
        "port2 = {}\n",
        "for key, value in port1.items():\n",
        "  port2[value] = key\n",
        "\n",
        "  print(port2)"
      ],
      "metadata": {
        "id": "LFsi1ceHKqd2",
        "colab": {
          "base_uri": "https://localhost:8080/"
        },
        "outputId": "21adc09a-93b3-432e-a5c9-06901321ffa6"
      },
      "execution_count": 2,
      "outputs": [
        {
          "output_type": "stream",
          "name": "stdout",
          "text": [
            "{'FTP': 21}\n",
            "{'FTP': 21, 'SSH': 22}\n",
            "{'FTP': 21, 'SSH': 22, 'telnet': 23}\n",
            "{'FTP': 21, 'SSH': 22, 'telnet': 23, 'http': 80}\n"
          ]
        }
      ]
    },
    {
      "cell_type": "markdown",
      "metadata": {
        "id": "OZ-LgvjTLshJ"
      },
      "source": [
        "### Ejercicio 2: Yendo al mercado\n",
        "\n",
        "Dory quiere ir al mercado a comprar frutas y vegetales.\n",
        "\n",
        "Entrada:\n",
        "La entrada de este problema contiene un diccionario que contiene 5 productos con sus precios respectivos por kg. La siguiente entrada contiene la cantidad de kg que Dory quiere comprar de cada uno.\n",
        "\n",
        "Salida:\n",
        "Muestre el dinero gastado por Dory en el mercado.\n",
        "\n",
        "<table>\n",
        "            uva 2.50<br>\n",
        "            banano 4.00<br>\n",
        "            pera 2.10<br>\n",
        "            granadilla 6.00<br>\n",
        "            naranja 5.00<br>\n",
        "            <br>\n",
        "            uva 10<br>\n",
        "            banano 10<br>\n",
        "            pera 15<br>\n",
        "            granadilla 12<br>\n",
        "            naranja 18<br>\n",
        "        </tr>\n",
        "</table>\n",
        "   \n"
      ]
    },
    {
      "cell_type": "code",
      "source": [
        "precios ={\"uva\": 2.50,\n",
        "\"banano\": 4.00,\n",
        "\"granadilla\": 6.00,\n",
        "\"naranja\": 5.00}\n",
        "kg = {\"uva\": 10,\n",
        "\"banano\": 10,\n",
        "\"granadilla\": 12,\n",
        "\"naranja\": 18}\n",
        "\n",
        "print (precios)\n",
        "print (kg)\n",
        "{'uva': 2.5, 'banano': 4.0, 'granadilla': 6.0, 'naranja': 5.0}\n",
        "{'uva': 10, 'banano': 10, 'granadilla': 12, 'naranja': 18}\n",
        "total = 0\n",
        "for producto, precio in precios.items():\n",
        "  cantidad = kg[producto]\n",
        "  total += precio*cantidad\n",
        "\n",
        "print(f\"El dinero gastado por Dory es: ${total}\")"
      ],
      "metadata": {
        "colab": {
          "base_uri": "https://localhost:8080/"
        },
        "id": "7x9IjrTGRAEm",
        "outputId": "0e114c02-b83a-42a4-ef2c-01a89dad0925"
      },
      "execution_count": 8,
      "outputs": [
        {
          "output_type": "stream",
          "name": "stdout",
          "text": [
            "{'uva': 2.5, 'banano': 4.0, 'granadilla': 6.0, 'naranja': 5.0}\n",
            "{'uva': 10, 'banano': 10, 'granadilla': 12, 'naranja': 18}\n",
            "El dinero gastado por Dory es: $227.0\n"
          ]
        }
      ]
    },
    {
      "cell_type": "markdown",
      "source": [
        "# Ejercicio 3\n",
        "\n",
        "Escribir un programa que cree un diccionario de traducción español-inglés. El usuario introducirá las palabras en español e inglés separadas por dos puntos, y cada par `palabra`:`traducción` separados por comas. El programa debe crear un diccionario con las palabras y sus traducciones. Después pedirá una frase en español y utilizará el diccionario para traducirla palabra a palabra. Si una palabra no está en el diccionario debe dejarla sin traducir."
      ],
      "metadata": {
        "id": "AewkA2lK7aQM"
      }
    },
    {
      "cell_type": "code",
      "execution_count": 5,
      "metadata": {
        "id": "Z9ao2Xn5LshJ",
        "colab": {
          "base_uri": "https://localhost:8080/"
        },
        "outputId": "c365f806-34cf-4a12-c4ab-3385ecbeff66"
      },
      "outputs": [
        {
          "output_type": "stream",
          "name": "stdout",
          "text": [
            "Introduce las traduccion (español:inglés), separadas por comas: rojo:red,verde:green,amarillo:yellow\n",
            "Introduce una frase en español: amarillo\n",
            "Frase traducida: yellow\n"
          ]
        }
      ],
      "source": [
        "def diccionario(traduccion):\n",
        "    diccionario = {}\n",
        "    for par in traduccion.split(','):\n",
        "        espanol, ingles = par.split(':')\n",
        "        diccionario[espanol.strip()] = ingles.strip()\n",
        "    return diccionario\n",
        "\n",
        "\n",
        "entrada_traducciones = input(\"Introduce las traduccion (español:inglés), separadas por comas: \")\n",
        "diccionario = diccionario(entrada_traducciones)\n",
        "\n",
        "español = input(\"Introduce una frase en español: \")\n",
        "traduccion = ' '.join(diccionario.get(palabra, palabra) for palabra in español.split())\n",
        "print(\"Frase traducida:\", traduccion)\n"
      ]
    },
    {
      "cell_type": "markdown",
      "metadata": {
        "id": "hQGtbXIFLshP"
      },
      "source": [
        "### Referencias:\n",
        "\n",
        "Barry, P. (2016). Head First Python: A Brain-Friendly Guide. \" O'Reilly Media, Inc.\".\n",
        "\n",
        "Das, B. N. (2017). Learn Python in 7 Days. Packt Publishing Ltd.\n",
        "\n",
        "https://codeforces.com/\n",
        "\n",
        "Rodríguez, A (2020). Curso de Programación en Python. https://github.com/arleserp/cursopython"
      ]
    },
    {
      "cell_type": "code",
      "execution_count": null,
      "metadata": {
        "id": "q1ClH2ufLshP"
      },
      "outputs": [],
      "source": []
    }
  ],
  "metadata": {
    "kernelspec": {
      "display_name": "Python 3",
      "language": "python",
      "name": "python3"
    },
    "language_info": {
      "codemirror_mode": {
        "name": "ipython",
        "version": 3
      },
      "file_extension": ".py",
      "mimetype": "text/x-python",
      "name": "python",
      "nbconvert_exporter": "python",
      "pygments_lexer": "ipython3",
      "version": "3.7.3"
    },
    "colab": {
      "provenance": [],
      "collapsed_sections": [
        "hQGtbXIFLshP"
      ],
      "include_colab_link": true
    }
  },
  "nbformat": 4,
  "nbformat_minor": 0
}